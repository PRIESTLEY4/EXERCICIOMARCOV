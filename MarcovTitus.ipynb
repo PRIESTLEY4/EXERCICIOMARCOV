{
  "nbformat": 4,
  "nbformat_minor": 0,
  "metadata": {
    "colab": {
      "provenance": []
    },
    "kernelspec": {
      "name": "python3",
      "display_name": "Python 3"
    },
    "language_info": {
      "name": "python"
    }
  },
  "cells": [
    {
      "cell_type": "code",
      "execution_count": 2,
      "metadata": {
        "colab": {
          "base_uri": "https://localhost:8080/"
        },
        "id": "E6--rHSYolrq",
        "outputId": "25b524d3-f480-484c-8d31-9dc2ffece683"
      },
      "outputs": [
        {
          "output_type": "stream",
          "name": "stdout",
          "text": [
            "0.00403\n",
            "0.34795\n",
            "0.42782\n",
            "0.0\n",
            "0.0\n",
            "0.2202\n"
          ]
        }
      ],
      "source": [
        "import numpy as np\n",
        "import matplotlib.pyplot as plt\n",
        "\n",
        "n = 100000\n",
        "chain2 = np.zeros(n, int)\n",
        "for j in np.arange(0, n, 1):\n",
        "    probabilidades_transicao = [[0, 0.50, 0.50, 0, 0, 0],[0.50, 0, 0, 0.50, 0, 0],[0.33, 0, 0, 0.33, 0.33, 0],[0, 0.33, 0.33, 0, 0, 0.33], [0, 0, 0.50, 0, 0, 0.50],[0, 0, 0, 0, 0, 1]] # matriz de transicao de um passo\n",
        "    valor_inicial = 0#0 pOSICAO RATO\n",
        "    chain_length = 10\n",
        "    chain = np.zeros(chain_length, int)\n",
        "    chain[0] = valor_inicial\n",
        "\n",
        "    for i in np.arange(1, chain_length, 1):\n",
        "        Linha_atual = probabilidades_transicao[chain[i - 1]]\n",
        "        acumulada = np.cumsum(Linha_atual)\n",
        "        r = np.random.uniform(0, 1)\n",
        "        chain[i] = np.argmax(acumulada > r)\n",
        "\n",
        "    chain2[j] = chain[3]\n",
        "\n",
        "prob1 = np.sum(chain2 == 0) / n\n",
        "prob2 = np.sum(chain2 == 1) / n\n",
        "prob3 = np.sum(chain2 == 2) / n\n",
        "prob4 = np.sum(chain2 == 3) / n\n",
        "prob5 = np.sum(chain2 == 4) / n\n",
        "prob6 = np.sum(chain2 == 5) / n\n",
        "\n",
        "\n",
        "print(prob1)\n",
        "print(prob2)\n",
        "print(prob3)\n",
        "print(prob4)\n",
        "print(prob5)\n",
        "print(prob6)\n",
        "\n",
        ""
      ]
    },
    {
      "cell_type": "code",
      "source": [
        "import numpy as np\n",
        "import matplotlib.pyplot as plt\n",
        "\n",
        "n = 100000\n",
        "chain2 = np.zeros(n, int)\n",
        "for j in np.arange(0, n, 1):\n",
        "    probabilidades_transicao = [[1,0,0, 0],[0.3,0.4,0.3,0],[0,0.3,0.4,0.3],[0, 0, 0, 1]]\n",
        "\n",
        "    valor_inicial = 1#ONDE ESTA A MOSCA\n",
        "    chain_length = 10\n",
        "    chain = np.zeros(chain_length, int)\n",
        "    chain[0] = valor_inicial\n",
        "\n",
        "    for i in np.arange(1, chain_length, 1):\n",
        "        Linha_atual = probabilidades_transicao[chain[i - 1]]\n",
        "        acumulada = np.cumsum(Linha_atual)\n",
        "        r = np.random.uniform(0, 1)\n",
        "        chain[i] = np.argmax(acumulada > r)\n",
        "\n",
        "    chain2[j] = chain[3]\n",
        "\n",
        "prob1 = np.sum(chain2 == 0) / n\n",
        "prob2 = np.sum(chain2 == 1) / n\n",
        "prob3 = np.sum(chain2 == 2) / n\n",
        "prob4 = np.sum(chain2 == 3) / n\n",
        "print(prob1)\n",
        "print(prob2)\n",
        "print(prob3)\n",
        "print(prob3)\n"
      ],
      "metadata": {
        "colab": {
          "base_uri": "https://localhost:8080/"
        },
        "id": "31aRnJiXtm7F",
        "outputId": "74b370a2-c76e-4b11-e141-f8e946c25d43"
      },
      "execution_count": 3,
      "outputs": [
        {
          "output_type": "stream",
          "name": "stdout",
          "text": [
            "0.49379\n",
            "0.17243\n",
            "0.17123\n",
            "0.17123\n"
          ]
        }
      ]
    }
  ]
}